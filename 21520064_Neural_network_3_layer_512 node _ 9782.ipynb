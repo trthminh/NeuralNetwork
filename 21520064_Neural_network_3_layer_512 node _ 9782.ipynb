{
  "cells": [
    {
      "cell_type": "markdown",
      "metadata": {
        "id": "8HRKj4XA5WMC"
      },
      "source": [
        "# **Tải dữ liệu** "
      ]
    },
    {
      "cell_type": "code",
      "execution_count": 1,
      "metadata": {
        "colab": {
          "base_uri": "https://localhost:8080/"
        },
        "id": "yK7KUNP4AmW5",
        "outputId": "591213bb-7f60-4a5b-b465-a464cc8c02c0"
      },
      "outputs": [
        {
          "output_type": "stream",
          "name": "stdout",
          "text": [
            "Downloading data from https://storage.googleapis.com/tensorflow/tf-keras-datasets/mnist.npz\n",
            "11493376/11490434 [==============================] - 0s 0us/step\n",
            "11501568/11490434 [==============================] - 0s 0us/step\n"
          ]
        }
      ],
      "source": [
        "from tensorflow.keras.datasets import mnist\n",
        "(X_train, y_train), (X_test, y_test) = mnist.load_data()"
      ]
    },
    {
      "cell_type": "markdown",
      "metadata": {
        "id": "DlC3OM8f5iXx"
      },
      "source": [
        "# Import thư viện cần thiết\n"
      ]
    },
    {
      "cell_type": "code",
      "execution_count": 2,
      "metadata": {
        "id": "CtnQpeohAORp"
      },
      "outputs": [],
      "source": [
        "import numpy as np\n",
        "import time\n",
        "from random import randint\n",
        "from google.colab.patches import cv2_imshow\n",
        "np.random.seed()"
      ]
    },
    {
      "cell_type": "markdown",
      "metadata": {
        "id": "VWlDXuBC5oIL"
      },
      "source": [
        "# Quan sát dữ liệu"
      ]
    },
    {
      "cell_type": "code",
      "execution_count": 3,
      "metadata": {
        "id": "naKReMwCBXQg"
      },
      "outputs": [],
      "source": [
        "x_train = X_train.reshape(len(X_train), 28*28)\n",
        "x_test = X_test.reshape(len(X_test), 28*28)\n",
        "x_train = x_train / 255.\n",
        "x_test = x_test / 255."
      ]
    },
    {
      "cell_type": "code",
      "execution_count": null,
      "metadata": {
        "colab": {
          "base_uri": "https://localhost:8080/",
          "height": 45
        },
        "id": "Jff_S6le5sdy",
        "outputId": "6b2c91d9-c5da-45af-c523-a5639f2d76cb"
      },
      "outputs": [
        {
          "data": {
            "image/png": "[encoded data removed]",
            "text/plain": [
              "<PIL.Image.Image image mode=L size=28x28 at 0x7F0B1815C910>"
            ]
          },
          "metadata": {},
          "output_type": "display_data"
        }
      ],
      "source": [
        "cv2_imshow(X_train[1])"
      ]
    },
    {
      "cell_type": "code",
      "execution_count": null,
      "metadata": {
        "colab": {
          "base_uri": "https://localhost:8080/"
        },
        "id": "I833KVsly4_h",
        "outputId": "e9a81658-6603-4123-cdd5-24abc7cdbb3e"
      },
      "outputs": [
        {
          "data": {
            "text/plain": [
              "(60000,)"
            ]
          },
          "execution_count": 96,
          "metadata": {},
          "output_type": "execute_result"
        }
      ],
      "source": [
        "y_train.shape"
      ]
    },
    {
      "cell_type": "code",
      "execution_count": null,
      "metadata": {
        "colab": {
          "base_uri": "https://localhost:8080/"
        },
        "id": "XP4I7Iptzt4_",
        "outputId": "ea861bdc-6c06-4215-9c19-bb0cb4d9fa7e"
      },
      "outputs": [
        {
          "data": {
            "text/plain": [
              "(60000, 784)"
            ]
          },
          "execution_count": 6,
          "metadata": {},
          "output_type": "execute_result"
        }
      ],
      "source": [
        "x_train.shape"
      ]
    },
    {
      "cell_type": "code",
      "execution_count": null,
      "metadata": {
        "colab": {
          "base_uri": "https://localhost:8080/"
        },
        "id": "lBpEe1vWz3SH",
        "outputId": "dc0a5ccc-43e9-4ddb-b9e4-4ab5efc49b29"
      },
      "outputs": [
        {
          "data": {
            "text/plain": [
              "array([0.        , 0.        , 0.        , 0.        , 0.        ,\n",
              "       0.        , 0.        , 0.        , 0.        , 0.        ,\n",
              "       0.        , 0.        , 0.        , 0.        , 0.        ,\n",
              "       0.        , 0.        , 0.        , 0.        , 0.        ,\n",
              "       0.        , 0.        , 0.        , 0.        , 0.        ,\n",
              "       0.        , 0.        , 0.        , 0.        , 0.        ,\n",
              "       0.        , 0.        , 0.        , 0.        , 0.        ,\n",
              "       0.        , 0.        , 0.        , 0.        , 0.        ,\n",
              "       0.        , 0.        , 0.        , 0.        , 0.        ,\n",
              "       0.        , 0.        , 0.        , 0.        , 0.        ,\n",
              "       0.        , 0.        , 0.        , 0.        , 0.        ,\n",
              "       0.        , 0.        , 0.        , 0.        , 0.        ,\n",
              "       0.        , 0.        , 0.        , 0.        , 0.        ,\n",
              "       0.        , 0.        , 0.        , 0.        , 0.        ,\n",
              "       0.        , 0.        , 0.        , 0.        , 0.        ,\n",
              "       0.        , 0.        , 0.        , 0.        , 0.        ,\n",
              "       0.        , 0.        , 0.        , 0.        , 0.        ,\n",
              "       0.        , 0.        , 0.        , 0.        , 0.        ,\n",
              "       0.        , 0.        , 0.        , 0.        , 0.        ,\n",
              "       0.        , 0.        , 0.        , 0.        , 0.        ,\n",
              "       0.        , 0.        , 0.        , 0.        , 0.        ,\n",
              "       0.        , 0.        , 0.        , 0.        , 0.        ,\n",
              "       0.        , 0.        , 0.        , 0.        , 0.        ,\n",
              "       0.        , 0.        , 0.        , 0.        , 0.        ,\n",
              "       0.        , 0.        , 0.        , 0.        , 0.        ,\n",
              "       0.        , 0.        , 0.        , 0.        , 0.        ,\n",
              "       0.        , 0.        , 0.        , 0.        , 0.        ,\n",
              "       0.        , 0.        , 0.        , 0.        , 0.        ,\n",
              "       0.        , 0.        , 0.        , 0.        , 0.        ,\n",
              "       0.        , 0.        , 0.        , 0.        , 0.        ,\n",
              "       0.        , 0.        , 0.01176471, 0.07058824, 0.07058824,\n",
              "       0.07058824, 0.49411765, 0.53333333, 0.68627451, 0.10196078,\n",
              "       0.65098039, 1.        , 0.96862745, 0.49803922, 0.        ,\n",
              "       0.        , 0.        , 0.        , 0.        , 0.        ,\n",
              "       0.        , 0.        , 0.        , 0.        , 0.        ,\n",
              "       0.        , 0.11764706, 0.14117647, 0.36862745, 0.60392157,\n",
              "       0.66666667, 0.99215686, 0.99215686, 0.99215686, 0.99215686,\n",
              "       0.99215686, 0.88235294, 0.6745098 , 0.99215686, 0.94901961,\n",
              "       0.76470588, 0.25098039, 0.        , 0.        , 0.        ,\n",
              "       0.        , 0.        , 0.        , 0.        , 0.        ,\n",
              "       0.        , 0.        , 0.        , 0.19215686, 0.93333333,\n",
              "       0.99215686, 0.99215686, 0.99215686, 0.99215686, 0.99215686,\n",
              "       0.99215686, 0.99215686, 0.99215686, 0.98431373, 0.36470588,\n",
              "       0.32156863, 0.32156863, 0.21960784, 0.15294118, 0.        ,\n",
              "       0.        , 0.        , 0.        , 0.        , 0.        ,\n",
              "       0.        , 0.        , 0.        , 0.        , 0.        ,\n",
              "       0.        , 0.07058824, 0.85882353, 0.99215686, 0.99215686,\n",
              "       0.99215686, 0.99215686, 0.99215686, 0.77647059, 0.71372549,\n",
              "       0.96862745, 0.94509804, 0.        , 0.        , 0.        ,\n",
              "       0.        , 0.        , 0.        , 0.        , 0.        ,\n",
              "       0.        , 0.        , 0.        , 0.        , 0.        ,\n",
              "       0.        , 0.        , 0.        , 0.        , 0.        ,\n",
              "       0.31372549, 0.61176471, 0.41960784, 0.99215686, 0.99215686,\n",
              "       0.80392157, 0.04313725, 0.        , 0.16862745, 0.60392157,\n",
              "       0.        , 0.        , 0.        , 0.        , 0.        ,\n",
              "       0.        , 0.        , 0.        , 0.        , 0.        ,\n",
              "       0.        , 0.        , 0.        , 0.        , 0.        ,\n",
              "       0.        , 0.        , 0.        , 0.        , 0.05490196,\n",
              "       0.00392157, 0.60392157, 0.99215686, 0.35294118, 0.        ,\n",
              "       0.        , 0.        , 0.        , 0.        , 0.        ,\n",
              "       0.        , 0.        , 0.        , 0.        , 0.        ,\n",
              "       0.        , 0.        , 0.        , 0.        , 0.        ,\n",
              "       0.        , 0.        , 0.        , 0.        , 0.        ,\n",
              "       0.        , 0.        , 0.        , 0.        , 0.54509804,\n",
              "       0.99215686, 0.74509804, 0.00784314, 0.        , 0.        ,\n",
              "       0.        , 0.        , 0.        , 0.        , 0.        ,\n",
              "       0.        , 0.        , 0.        , 0.        , 0.        ,\n",
              "       0.        , 0.        , 0.        , 0.        , 0.        ,\n",
              "       0.        , 0.        , 0.        , 0.        , 0.        ,\n",
              "       0.        , 0.        , 0.04313725, 0.74509804, 0.99215686,\n",
              "       0.2745098 , 0.        , 0.        , 0.        , 0.        ,\n",
              "       0.        , 0.        , 0.        , 0.        , 0.        ,\n",
              "       0.        , 0.        , 0.        , 0.        , 0.        ,\n",
              "       0.        , 0.        , 0.        , 0.        , 0.        ,\n",
              "       0.        , 0.        , 0.        , 0.        , 0.        ,\n",
              "       0.        , 0.1372549 , 0.94509804, 0.88235294, 0.62745098,\n",
              "       0.42352941, 0.00392157, 0.        , 0.        , 0.        ,\n",
              "       0.        , 0.        , 0.        , 0.        , 0.        ,\n",
              "       0.        , 0.        , 0.        , 0.        , 0.        ,\n",
              "       0.        , 0.        , 0.        , 0.        , 0.        ,\n",
              "       0.        , 0.        , 0.        , 0.        , 0.        ,\n",
              "       0.31764706, 0.94117647, 0.99215686, 0.99215686, 0.46666667,\n",
              "       0.09803922, 0.        , 0.        , 0.        , 0.        ,\n",
              "       0.        , 0.        , 0.        , 0.        , 0.        ,\n",
              "       0.        , 0.        , 0.        , 0.        , 0.        ,\n",
              "       0.        , 0.        , 0.        , 0.        , 0.        ,\n",
              "       0.        , 0.        , 0.        , 0.        , 0.17647059,\n",
              "       0.72941176, 0.99215686, 0.99215686, 0.58823529, 0.10588235,\n",
              "       0.        , 0.        , 0.        , 0.        , 0.        ,\n",
              "       0.        , 0.        , 0.        , 0.        , 0.        ,\n",
              "       0.        , 0.        , 0.        , 0.        , 0.        ,\n",
              "       0.        , 0.        , 0.        , 0.        , 0.        ,\n",
              "       0.        , 0.        , 0.        , 0.0627451 , 0.36470588,\n",
              "       0.98823529, 0.99215686, 0.73333333, 0.        , 0.        ,\n",
              "       0.        , 0.        , 0.        , 0.        , 0.        ,\n",
              "       0.        , 0.        , 0.        , 0.        , 0.        ,\n",
              "       0.        , 0.        , 0.        , 0.        , 0.        ,\n",
              "       0.        , 0.        , 0.        , 0.        , 0.        ,\n",
              "       0.        , 0.        , 0.        , 0.97647059, 0.99215686,\n",
              "       0.97647059, 0.25098039, 0.        , 0.        , 0.        ,\n",
              "       0.        , 0.        , 0.        , 0.        , 0.        ,\n",
              "       0.        , 0.        , 0.        , 0.        , 0.        ,\n",
              "       0.        , 0.        , 0.        , 0.        , 0.        ,\n",
              "       0.        , 0.        , 0.        , 0.18039216, 0.50980392,\n",
              "       0.71764706, 0.99215686, 0.99215686, 0.81176471, 0.00784314,\n",
              "       0.        , 0.        , 0.        , 0.        , 0.        ,\n",
              "       0.        , 0.        , 0.        , 0.        , 0.        ,\n",
              "       0.        , 0.        , 0.        , 0.        , 0.        ,\n",
              "       0.        , 0.        , 0.        , 0.        , 0.15294118,\n",
              "       0.58039216, 0.89803922, 0.99215686, 0.99215686, 0.99215686,\n",
              "       0.98039216, 0.71372549, 0.        , 0.        , 0.        ,\n",
              "       0.        , 0.        , 0.        , 0.        , 0.        ,\n",
              "       0.        , 0.        , 0.        , 0.        , 0.        ,\n",
              "       0.        , 0.        , 0.        , 0.        , 0.        ,\n",
              "       0.09411765, 0.44705882, 0.86666667, 0.99215686, 0.99215686,\n",
              "       0.99215686, 0.99215686, 0.78823529, 0.30588235, 0.        ,\n",
              "       0.        , 0.        , 0.        , 0.        , 0.        ,\n",
              "       0.        , 0.        , 0.        , 0.        , 0.        ,\n",
              "       0.        , 0.        , 0.        , 0.        , 0.        ,\n",
              "       0.        , 0.09019608, 0.25882353, 0.83529412, 0.99215686,\n",
              "       0.99215686, 0.99215686, 0.99215686, 0.77647059, 0.31764706,\n",
              "       0.00784314, 0.        , 0.        , 0.        , 0.        ,\n",
              "       0.        , 0.        , 0.        , 0.        , 0.        ,\n",
              "       0.        , 0.        , 0.        , 0.        , 0.        ,\n",
              "       0.        , 0.        , 0.07058824, 0.67058824, 0.85882353,\n",
              "       0.99215686, 0.99215686, 0.99215686, 0.99215686, 0.76470588,\n",
              "       0.31372549, 0.03529412, 0.        , 0.        , 0.        ,\n",
              "       0.        , 0.        , 0.        , 0.        , 0.        ,\n",
              "       0.        , 0.        , 0.        , 0.        , 0.        ,\n",
              "       0.        , 0.        , 0.        , 0.21568627, 0.6745098 ,\n",
              "       0.88627451, 0.99215686, 0.99215686, 0.99215686, 0.99215686,\n",
              "       0.95686275, 0.52156863, 0.04313725, 0.        , 0.        ,\n",
              "       0.        , 0.        , 0.        , 0.        , 0.        ,\n",
              "       0.        , 0.        , 0.        , 0.        , 0.        ,\n",
              "       0.        , 0.        , 0.        , 0.        , 0.        ,\n",
              "       0.        , 0.53333333, 0.99215686, 0.99215686, 0.99215686,\n",
              "       0.83137255, 0.52941176, 0.51764706, 0.0627451 , 0.        ,\n",
              "       0.        , 0.        , 0.        , 0.        , 0.        ,\n",
              "       0.        , 0.        , 0.        , 0.        , 0.        ,\n",
              "       0.        , 0.        , 0.        , 0.        , 0.        ,\n",
              "       0.        , 0.        , 0.        , 0.        , 0.        ,\n",
              "       0.        , 0.        , 0.        , 0.        , 0.        ,\n",
              "       0.        , 0.        , 0.        , 0.        , 0.        ,\n",
              "       0.        , 0.        , 0.        , 0.        , 0.        ,\n",
              "       0.        , 0.        , 0.        , 0.        , 0.        ,\n",
              "       0.        , 0.        , 0.        , 0.        , 0.        ,\n",
              "       0.        , 0.        , 0.        , 0.        , 0.        ,\n",
              "       0.        , 0.        , 0.        , 0.        , 0.        ,\n",
              "       0.        , 0.        , 0.        , 0.        , 0.        ,\n",
              "       0.        , 0.        , 0.        , 0.        , 0.        ,\n",
              "       0.        , 0.        , 0.        , 0.        , 0.        ,\n",
              "       0.        , 0.        , 0.        , 0.        , 0.        ,\n",
              "       0.        , 0.        , 0.        , 0.        , 0.        ,\n",
              "       0.        , 0.        , 0.        , 0.        , 0.        ,\n",
              "       0.        , 0.        , 0.        , 0.        , 0.        ,\n",
              "       0.        , 0.        , 0.        , 0.        , 0.        ,\n",
              "       0.        , 0.        , 0.        , 0.        ])"
            ]
          },
          "execution_count": 26,
          "metadata": {},
          "output_type": "execute_result"
        }
      ],
      "source": [
        "x_train[0]"
      ]
    },
    {
      "cell_type": "code",
      "execution_count": null,
      "metadata": {
        "colab": {
          "base_uri": "https://localhost:8080/"
        },
        "id": "4wQHkYL_Emne",
        "outputId": "aa55ca7a-fb4b-44a4-e16c-6405f02a8b1e"
      },
      "outputs": [
        {
          "data": {
            "text/plain": [
              "5"
            ]
          },
          "execution_count": 27,
          "metadata": {},
          "output_type": "execute_result"
        }
      ],
      "source": [
        "y_train[0]"
      ]
    },
    {
      "cell_type": "markdown",
      "metadata": {
        "id": "e_ZQsf9S5x0d"
      },
      "source": [
        "# Tạo model\n"
      ]
    },
    {
      "cell_type": "code",
      "execution_count": 4,
      "metadata": {
        "id": "-SA-qIyMakYQ"
      },
      "outputs": [],
      "source": [
        "class NN:\n",
        "    first_layer = {}\n",
        "    second_layer = {}\n",
        "\n",
        "    def __init__(self, inputs, hidden, outputs):\n",
        "        self.first_layer['weight'] = np.random.randn(inputs, hidden) / np.sqrt(inputs)\n",
        "        self.first_layer['bias'] = np.random.randn(hidden, 1) / np.sqrt(hidden)\n",
        "        self.second_layer['weight'] = np.random.randn(hidden, outputs) / np.sqrt(hidden)\n",
        "        self.second_layer['bias'] = np.random.randn(outputs, 1) / np.sqrt(outputs)\n",
        "      \n",
        "        self.input_size = inputs\n",
        "        self.hid_size = hidden\n",
        "        self.output_size = outputs\n",
        "\n",
        "    def activfunc(self, Z, type = 'ReLU', deri = False):\n",
        "        if type == 'ReLU':\n",
        "            if deri == True: # neu co dao ham\n",
        "                return np.array([1 if i > 0 else 0 for i in np.squeeze(Z)])\n",
        "            else:\n",
        "                return np.array([i if i > 0 else 0 for i in np.squeeze(Z)])\n",
        "        elif type == 'Sigmoid':\n",
        "            if deri == True:\n",
        "                return 1/(1+np.exp(-Z))*(1-1/(1+np.exp(-Z)))\n",
        "            else:\n",
        "                return 1/(1+np.exp(-Z))\n",
        "        elif type == 'tanh':\n",
        "            if deri == True:\n",
        "                return \n",
        "            else:\n",
        "                return 1-(np.tanh(Z))**2\n",
        "        else:\n",
        "            raise TypeError('Invalid type!')\n",
        "\n",
        "    def Softmax(self,z):\n",
        "        return 1/sum(np.exp(z)) * np.exp(z)\n",
        "\n",
        "    def cross_entropy_error(self, y_hat, y):\n",
        "        return -np.log(y_hat[y])\n",
        "\n",
        "    def feedforward(self,x,y):\n",
        "        Z1 = np.dot(self.first_layer['weight'].T, x).reshape((self.hid_size,1)) + self.first_layer['bias'] # Z[1] = W[1] * X + b[1]\n",
        "        A1 = np.array(self.activfunc(Z1)).reshape((self.hid_size,1)) # A[1] = sigmoid(Z[1])\n",
        "        Z2 = np.dot(self.second_layer['weight'].T, A1).reshape((self.output_size,1)) + self.second_layer['bias'] # Z[2] = W[2] * A[1] + b[2]\n",
        "        y_hat = np.squeeze(self.Softmax(Z2))\n",
        "        error = self.cross_entropy_error(y_hat,y)\n",
        "        para = {\n",
        "            'Z1': Z1,\n",
        "            'A1': A1,\n",
        "            'Z2': Z2,\n",
        "            'y_hat': y_hat,\n",
        "            'error': error\n",
        "        }\n",
        "        return para\n",
        "\n",
        "    def predict(self, x):\n",
        "        return np.argmax(self.feedforward(x, 1)['y_hat'])\n",
        "\n",
        "    def back_propagation(self, x, y, f_result):\n",
        "        # onehot encoder cho y\n",
        "        E = np.array([0]*self.output_size).reshape((1, self.output_size))\n",
        "        E[0][y] = 1\n",
        "        dtmp = (f_result['y_hat'] - E).reshape((self.output_size,1)) \n",
        "        db2 = dtmp\n",
        "        dW2 = np.dot(dtmp, f_result['A1'].T)\n",
        "        delta = np.dot(self.second_layer['weight'], dtmp) * self.activfunc(f_result['Z1'], deri = True).reshape(self.hid_size, 1)\n",
        "        db1 = delta\n",
        "        dW1 = np.dot(db1.reshape((self.hid_size, 1)),x.reshape((1, 784)))\n",
        "\n",
        "        grad = {\n",
        "            'dW2':dW2,\n",
        "            'db2':db2,\n",
        "            'db1':db1,\n",
        "            'dW1':dW1\n",
        "        }\n",
        "        return grad\n",
        "\n",
        "    def optimize(self,b_result, learning_rate):\n",
        "        self.second_layer['weight'] -= learning_rate*b_result['dW2'].T\n",
        "        self.second_layer['bias'] -= learning_rate*b_result['db2']\n",
        "        self.first_layer['weight'] -= learning_rate*b_result['dW1'].T\n",
        "        self.first_layer['bias'] -= learning_rate*b_result['db1']\n",
        "\n",
        "\n",
        "    def loss(self,X_train,Y_train):\n",
        "        loss = 0\n",
        "        for n in range(len(X_train)):\n",
        "            y = Y_train[n]\n",
        "            x = X_train[n][:]\n",
        "            loss += self.feedforward(x,y)['error']\n",
        "        return loss / len(X_train)\n",
        "\n",
        "    def train(self, X_train, Y_train, num_iterations = 1000, learning_rate = 0.5):\n",
        "        # generate random list index for train\n",
        "        rand_indices = np.random.choice(len(X_train), num_iterations, replace=True)\n",
        "        \n",
        "        def l_rate(base_rate, ite, num_iterations, schedule = False):\n",
        "        # determine whether to use the learning schedule\n",
        "            if schedule == True:\n",
        "                return base_rate * 10 ** (-np.floor(ite/num_iterations*5))\n",
        "            else:\n",
        "                return base_rate\n",
        "\n",
        "        count = 1\n",
        "        loss_dict = {}\n",
        "        test_dict = {}\n",
        "        num_epochs = 1\n",
        "        for i in rand_indices:\n",
        "            f_result = self.feedforward(X_train[i], Y_train[i])\n",
        "            b_result = self.back_propagation(X_train[i], Y_train[i], f_result)\n",
        "            self.optimize(b_result, l_rate(learning_rate, i, num_iterations, True))\n",
        "            \n",
        "            if count % 1000 == 0:\n",
        "                print('Trained for {} times,'.format(count))\n",
        "                if count % 5000 == 0:\n",
        "                    loss = self.loss(X_train,Y_train)\n",
        "                    test, wrong_case = self.testing(x_test,y_test)\n",
        "                    print('Trained for {} epoch(s),'.format(num_epochs),'loss = {}, test = {}'.format(loss,test))\n",
        "                    loss_dict[str(count)]=loss\n",
        "                    test_dict[str(count)]=test\n",
        "                    num_epochs += 1\n",
        "                    \n",
        "            count += 1\n",
        "\n",
        "        print('Training finished!')\n",
        "        return loss_dict, test_dict\n",
        "\n",
        "    def testing(self, X_test, y_test):\n",
        "        wrong_case = []\n",
        "        total_correct = 0\n",
        "        for n in range(len(X_test)):\n",
        "            y = y_test[n]\n",
        "            x = X_test[n][:]\n",
        "            prediction = np.argmax(self.feedforward(x, y)['y_hat'])\n",
        "            if (prediction == y):\n",
        "                total_correct += 1\n",
        "            else: wrong_case.append(n)\n",
        "        print('Accuarcy Test: ',total_correct / len(X_test))\n",
        "        return total_correct/np.float(len(X_test)), wrong_case"
      ]
    },
    {
      "cell_type": "markdown",
      "metadata": {
        "id": "iZYToTdR51xY"
      },
      "source": [
        "## Test thử các trường hợp khác nhau của hidden size"
      ]
    },
    {
      "cell_type": "code",
      "execution_count": null,
      "metadata": {
        "colab": {
          "base_uri": "https://localhost:8080/",
          "height": 501
        },
        "id": "TgVuptBGtRLC",
        "outputId": "2563119b-e39a-41d3-8adf-7de34431a710"
      },
      "outputs": [
        {
          "output_type": "stream",
          "name": "stdout",
          "text": [
            "Trained for 1000 times,\n",
            "Trained for 2000 times,\n",
            "Trained for 3000 times,\n",
            "Trained for 4000 times,\n",
            "Trained for 5000 times,\n"
          ]
        },
        {
          "output_type": "error",
          "ename": "KeyboardInterrupt",
          "evalue": "ignored",
          "traceback": [
            "\u001b[0;31m---------------------------------------------------------------------------\u001b[0m",
            "\u001b[0;31mKeyboardInterrupt\u001b[0m                         Traceback (most recent call last)",
            "\u001b[0;32m<ipython-input-5-5120fa2d0fed>\u001b[0m in \u001b[0;36m<module>\u001b[0;34m()\u001b[0m\n\u001b[1;32m      8\u001b[0m \u001b[0;32mfor\u001b[0m \u001b[0mi\u001b[0m \u001b[0;32min\u001b[0m \u001b[0mhidden_size\u001b[0m\u001b[0;34m:\u001b[0m\u001b[0;34m\u001b[0m\u001b[0;34m\u001b[0m\u001b[0m\n\u001b[1;32m      9\u001b[0m   \u001b[0mmodel\u001b[0m \u001b[0;34m=\u001b[0m \u001b[0mNN\u001b[0m\u001b[0;34m(\u001b[0m\u001b[0mnum_inputs\u001b[0m\u001b[0;34m,\u001b[0m \u001b[0mi\u001b[0m\u001b[0;34m,\u001b[0m \u001b[0mnum_outputs\u001b[0m\u001b[0;34m)\u001b[0m\u001b[0;34m\u001b[0m\u001b[0;34m\u001b[0m\u001b[0m\n\u001b[0;32m---> 10\u001b[0;31m   \u001b[0mcost_dict\u001b[0m\u001b[0;34m,\u001b[0m \u001b[0mtests_dict\u001b[0m \u001b[0;34m=\u001b[0m \u001b[0mmodel\u001b[0m\u001b[0;34m.\u001b[0m\u001b[0mtrain\u001b[0m\u001b[0;34m(\u001b[0m\u001b[0mx_train\u001b[0m\u001b[0;34m,\u001b[0m \u001b[0my_train\u001b[0m\u001b[0;34m,\u001b[0m \u001b[0mnum_iterations\u001b[0m\u001b[0;34m=\u001b[0m\u001b[0mnum_iterations\u001b[0m\u001b[0;34m,\u001b[0m \u001b[0mlearning_rate\u001b[0m\u001b[0;34m=\u001b[0m\u001b[0mlearning_rate\u001b[0m\u001b[0;34m)\u001b[0m\u001b[0;34m\u001b[0m\u001b[0;34m\u001b[0m\u001b[0m\n\u001b[0m\u001b[1;32m     11\u001b[0m   \u001b[0mtmp\u001b[0m\u001b[0;34m,\u001b[0m \u001b[0m_\u001b[0m \u001b[0;34m=\u001b[0m \u001b[0mmodel\u001b[0m\u001b[0;34m.\u001b[0m\u001b[0mtesting\u001b[0m\u001b[0;34m(\u001b[0m\u001b[0mx_test\u001b[0m\u001b[0;34m,\u001b[0m \u001b[0my_test\u001b[0m\u001b[0;34m)\u001b[0m\u001b[0;34m\u001b[0m\u001b[0;34m\u001b[0m\u001b[0m\n\u001b[1;32m     12\u001b[0m   \u001b[0macc_per_hidden_size\u001b[0m\u001b[0;34m.\u001b[0m\u001b[0mappend\u001b[0m\u001b[0;34m(\u001b[0m\u001b[0mtmp\u001b[0m\u001b[0;34m)\u001b[0m\u001b[0;34m\u001b[0m\u001b[0;34m\u001b[0m\u001b[0m\n",
            "\u001b[0;32m<ipython-input-4-ba6159f9a0e5>\u001b[0m in \u001b[0;36mtrain\u001b[0;34m(self, X_train, Y_train, num_iterations, learning_rate)\u001b[0m\n\u001b[1;32m    113\u001b[0m                 \u001b[0mprint\u001b[0m\u001b[0;34m(\u001b[0m\u001b[0;34m'Trained for {} times,'\u001b[0m\u001b[0;34m.\u001b[0m\u001b[0mformat\u001b[0m\u001b[0;34m(\u001b[0m\u001b[0mcount\u001b[0m\u001b[0;34m)\u001b[0m\u001b[0;34m)\u001b[0m\u001b[0;34m\u001b[0m\u001b[0;34m\u001b[0m\u001b[0m\n\u001b[1;32m    114\u001b[0m                 \u001b[0;32mif\u001b[0m \u001b[0mcount\u001b[0m \u001b[0;34m%\u001b[0m \u001b[0;36m5000\u001b[0m \u001b[0;34m==\u001b[0m \u001b[0;36m0\u001b[0m\u001b[0;34m:\u001b[0m\u001b[0;34m\u001b[0m\u001b[0;34m\u001b[0m\u001b[0m\n\u001b[0;32m--> 115\u001b[0;31m                     \u001b[0mloss\u001b[0m \u001b[0;34m=\u001b[0m \u001b[0mself\u001b[0m\u001b[0;34m.\u001b[0m\u001b[0mloss\u001b[0m\u001b[0;34m(\u001b[0m\u001b[0mX_train\u001b[0m\u001b[0;34m,\u001b[0m\u001b[0mY_train\u001b[0m\u001b[0;34m)\u001b[0m\u001b[0;34m\u001b[0m\u001b[0;34m\u001b[0m\u001b[0m\n\u001b[0m\u001b[1;32m    116\u001b[0m                     \u001b[0mtest\u001b[0m\u001b[0;34m,\u001b[0m \u001b[0mwrong_case\u001b[0m \u001b[0;34m=\u001b[0m \u001b[0mself\u001b[0m\u001b[0;34m.\u001b[0m\u001b[0mtesting\u001b[0m\u001b[0;34m(\u001b[0m\u001b[0mx_test\u001b[0m\u001b[0;34m,\u001b[0m\u001b[0my_test\u001b[0m\u001b[0;34m)\u001b[0m\u001b[0;34m\u001b[0m\u001b[0;34m\u001b[0m\u001b[0m\n\u001b[1;32m    117\u001b[0m                     \u001b[0mprint\u001b[0m\u001b[0;34m(\u001b[0m\u001b[0;34m'Trained for {} epoch(s),'\u001b[0m\u001b[0;34m.\u001b[0m\u001b[0mformat\u001b[0m\u001b[0;34m(\u001b[0m\u001b[0mnum_epochs\u001b[0m\u001b[0;34m)\u001b[0m\u001b[0;34m,\u001b[0m\u001b[0;34m'loss = {}, test = {}'\u001b[0m\u001b[0;34m.\u001b[0m\u001b[0mformat\u001b[0m\u001b[0;34m(\u001b[0m\u001b[0mloss\u001b[0m\u001b[0;34m,\u001b[0m\u001b[0mtest\u001b[0m\u001b[0;34m)\u001b[0m\u001b[0;34m)\u001b[0m\u001b[0;34m\u001b[0m\u001b[0;34m\u001b[0m\u001b[0m\n",
            "\u001b[0;32m<ipython-input-4-ba6159f9a0e5>\u001b[0m in \u001b[0;36mloss\u001b[0;34m(self, X_train, Y_train)\u001b[0m\n\u001b[1;32m     87\u001b[0m             \u001b[0my\u001b[0m \u001b[0;34m=\u001b[0m \u001b[0mY_train\u001b[0m\u001b[0;34m[\u001b[0m\u001b[0mn\u001b[0m\u001b[0;34m]\u001b[0m\u001b[0;34m\u001b[0m\u001b[0;34m\u001b[0m\u001b[0m\n\u001b[1;32m     88\u001b[0m             \u001b[0mx\u001b[0m \u001b[0;34m=\u001b[0m \u001b[0mX_train\u001b[0m\u001b[0;34m[\u001b[0m\u001b[0mn\u001b[0m\u001b[0;34m]\u001b[0m\u001b[0;34m[\u001b[0m\u001b[0;34m:\u001b[0m\u001b[0;34m]\u001b[0m\u001b[0;34m\u001b[0m\u001b[0;34m\u001b[0m\u001b[0m\n\u001b[0;32m---> 89\u001b[0;31m             \u001b[0mloss\u001b[0m \u001b[0;34m+=\u001b[0m \u001b[0mself\u001b[0m\u001b[0;34m.\u001b[0m\u001b[0mfeedforward\u001b[0m\u001b[0;34m(\u001b[0m\u001b[0mx\u001b[0m\u001b[0;34m,\u001b[0m\u001b[0my\u001b[0m\u001b[0;34m)\u001b[0m\u001b[0;34m[\u001b[0m\u001b[0;34m'error'\u001b[0m\u001b[0;34m]\u001b[0m\u001b[0;34m\u001b[0m\u001b[0;34m\u001b[0m\u001b[0m\n\u001b[0m\u001b[1;32m     90\u001b[0m         \u001b[0;32mreturn\u001b[0m \u001b[0mloss\u001b[0m \u001b[0;34m/\u001b[0m \u001b[0mlen\u001b[0m\u001b[0;34m(\u001b[0m\u001b[0mX_train\u001b[0m\u001b[0;34m)\u001b[0m\u001b[0;34m\u001b[0m\u001b[0;34m\u001b[0m\u001b[0m\n\u001b[1;32m     91\u001b[0m \u001b[0;34m\u001b[0m\u001b[0m\n",
            "\u001b[0;32m<ipython-input-4-ba6159f9a0e5>\u001b[0m in \u001b[0;36mfeedforward\u001b[0;34m(self, x, y)\u001b[0m\n\u001b[1;32m     39\u001b[0m \u001b[0;34m\u001b[0m\u001b[0m\n\u001b[1;32m     40\u001b[0m     \u001b[0;32mdef\u001b[0m \u001b[0mfeedforward\u001b[0m\u001b[0;34m(\u001b[0m\u001b[0mself\u001b[0m\u001b[0;34m,\u001b[0m\u001b[0mx\u001b[0m\u001b[0;34m,\u001b[0m\u001b[0my\u001b[0m\u001b[0;34m)\u001b[0m\u001b[0;34m:\u001b[0m\u001b[0;34m\u001b[0m\u001b[0;34m\u001b[0m\u001b[0m\n\u001b[0;32m---> 41\u001b[0;31m         \u001b[0mZ1\u001b[0m \u001b[0;34m=\u001b[0m \u001b[0mnp\u001b[0m\u001b[0;34m.\u001b[0m\u001b[0mdot\u001b[0m\u001b[0;34m(\u001b[0m\u001b[0mself\u001b[0m\u001b[0;34m.\u001b[0m\u001b[0mfirst_layer\u001b[0m\u001b[0;34m[\u001b[0m\u001b[0;34m'weight'\u001b[0m\u001b[0;34m]\u001b[0m\u001b[0;34m.\u001b[0m\u001b[0mT\u001b[0m\u001b[0;34m,\u001b[0m \u001b[0mx\u001b[0m\u001b[0;34m)\u001b[0m\u001b[0;34m.\u001b[0m\u001b[0mreshape\u001b[0m\u001b[0;34m(\u001b[0m\u001b[0;34m(\u001b[0m\u001b[0mself\u001b[0m\u001b[0;34m.\u001b[0m\u001b[0mhid_size\u001b[0m\u001b[0;34m,\u001b[0m\u001b[0;36m1\u001b[0m\u001b[0;34m)\u001b[0m\u001b[0;34m)\u001b[0m \u001b[0;34m+\u001b[0m \u001b[0mself\u001b[0m\u001b[0;34m.\u001b[0m\u001b[0mfirst_layer\u001b[0m\u001b[0;34m[\u001b[0m\u001b[0;34m'bias'\u001b[0m\u001b[0;34m]\u001b[0m \u001b[0;31m# Z[1] = W[1] * X + b[1]\u001b[0m\u001b[0;34m\u001b[0m\u001b[0;34m\u001b[0m\u001b[0m\n\u001b[0m\u001b[1;32m     42\u001b[0m         \u001b[0mA1\u001b[0m \u001b[0;34m=\u001b[0m \u001b[0mnp\u001b[0m\u001b[0;34m.\u001b[0m\u001b[0marray\u001b[0m\u001b[0;34m(\u001b[0m\u001b[0mself\u001b[0m\u001b[0;34m.\u001b[0m\u001b[0mactivfunc\u001b[0m\u001b[0;34m(\u001b[0m\u001b[0mZ1\u001b[0m\u001b[0;34m)\u001b[0m\u001b[0;34m)\u001b[0m\u001b[0;34m.\u001b[0m\u001b[0mreshape\u001b[0m\u001b[0;34m(\u001b[0m\u001b[0;34m(\u001b[0m\u001b[0mself\u001b[0m\u001b[0;34m.\u001b[0m\u001b[0mhid_size\u001b[0m\u001b[0;34m,\u001b[0m\u001b[0;36m1\u001b[0m\u001b[0;34m)\u001b[0m\u001b[0;34m)\u001b[0m \u001b[0;31m# A[1] = sigmoid(Z[1])\u001b[0m\u001b[0;34m\u001b[0m\u001b[0;34m\u001b[0m\u001b[0m\n\u001b[1;32m     43\u001b[0m         \u001b[0mZ2\u001b[0m \u001b[0;34m=\u001b[0m \u001b[0mnp\u001b[0m\u001b[0;34m.\u001b[0m\u001b[0mdot\u001b[0m\u001b[0;34m(\u001b[0m\u001b[0mself\u001b[0m\u001b[0;34m.\u001b[0m\u001b[0msecond_layer\u001b[0m\u001b[0;34m[\u001b[0m\u001b[0;34m'weight'\u001b[0m\u001b[0;34m]\u001b[0m\u001b[0;34m.\u001b[0m\u001b[0mT\u001b[0m\u001b[0;34m,\u001b[0m \u001b[0mA1\u001b[0m\u001b[0;34m)\u001b[0m\u001b[0;34m.\u001b[0m\u001b[0mreshape\u001b[0m\u001b[0;34m(\u001b[0m\u001b[0;34m(\u001b[0m\u001b[0mself\u001b[0m\u001b[0;34m.\u001b[0m\u001b[0moutput_size\u001b[0m\u001b[0;34m,\u001b[0m\u001b[0;36m1\u001b[0m\u001b[0;34m)\u001b[0m\u001b[0;34m)\u001b[0m \u001b[0;34m+\u001b[0m \u001b[0mself\u001b[0m\u001b[0;34m.\u001b[0m\u001b[0msecond_layer\u001b[0m\u001b[0;34m[\u001b[0m\u001b[0;34m'bias'\u001b[0m\u001b[0;34m]\u001b[0m \u001b[0;31m# Z[2] = W[2] * A[1] + b[2]\u001b[0m\u001b[0;34m\u001b[0m\u001b[0;34m\u001b[0m\u001b[0m\n",
            "\u001b[0;32m<__array_function__ internals>\u001b[0m in \u001b[0;36mdot\u001b[0;34m(*args, **kwargs)\u001b[0m\n",
            "\u001b[0;31mKeyboardInterrupt\u001b[0m: "
          ]
        }
      ],
      "source": [
        "num_iterations = 200000\n",
        "learning_rate = 0.01\n",
        "num_inputs = 28*28\n",
        "num_outputs = 10\n",
        "hidden_size = [32, 64, 128, 256, 512]\n",
        "acc_per_hidden_size = []\n",
        "# data fitting, training and accuracy evaluation\n",
        "for i in hidden_size:\n",
        "  model = NN(num_inputs, i, num_outputs)\n",
        "  cost_dict, tests_dict = model.train(x_train, y_train, num_iterations=num_iterations, learning_rate=learning_rate)\n",
        "  tmp, _ = model.testing(x_test, y_test)\n",
        "  acc_per_hidden_size.append(tmp)"
      ]
    },
    {
      "cell_type": "code",
      "execution_count": 5,
      "metadata": {
        "colab": {
          "base_uri": "https://localhost:8080/"
        },
        "id": "TfZ3SgAn7yl-",
        "outputId": "8c162242-bb0a-4be5-d21c-18c45eaef81d"
      },
      "outputs": [
        {
          "output_type": "stream",
          "name": "stdout",
          "text": [
            "Trained for 1000 times,\n",
            "Trained for 2000 times,\n",
            "Trained for 3000 times,\n",
            "Trained for 4000 times,\n",
            "Trained for 5000 times,\n",
            "Accuarcy Test:  0.8962\n",
            "Trained for 1 epoch(s), loss = 0.3692832654266917, test = 0.8962\n"
          ]
        },
        {
          "output_type": "stream",
          "name": "stderr",
          "text": [
            "/usr/local/lib/python3.7/dist-packages/ipykernel_launcher.py:138: DeprecationWarning: `np.float` is a deprecated alias for the builtin `float`. To silence this warning, use `float` by itself. Doing this will not modify any behavior and is safe. If you specifically wanted the numpy scalar type, use `np.float64` here.\n",
            "Deprecated in NumPy 1.20; for more details and guidance: https://numpy.org/devdocs/release/1.20.0-notes.html#deprecations\n"
          ]
        },
        {
          "output_type": "stream",
          "name": "stdout",
          "text": [
            "Trained for 6000 times,\n",
            "Trained for 7000 times,\n",
            "Trained for 8000 times,\n",
            "Trained for 9000 times,\n",
            "Trained for 10000 times,\n",
            "Accuarcy Test:  0.9319\n",
            "Trained for 2 epoch(s), loss = 0.2466527180132791, test = 0.9319\n",
            "Trained for 11000 times,\n",
            "Trained for 12000 times,\n",
            "Trained for 13000 times,\n",
            "Trained for 14000 times,\n",
            "Trained for 15000 times,\n",
            "Accuarcy Test:  0.9384\n",
            "Trained for 3 epoch(s), loss = 0.21250576905223176, test = 0.9384\n",
            "Trained for 16000 times,\n",
            "Trained for 17000 times,\n",
            "Trained for 18000 times,\n",
            "Trained for 19000 times,\n",
            "Trained for 20000 times,\n",
            "Accuarcy Test:  0.9413\n",
            "Trained for 4 epoch(s), loss = 0.19919896817518723, test = 0.9413\n",
            "Trained for 21000 times,\n",
            "Trained for 22000 times,\n",
            "Trained for 23000 times,\n",
            "Trained for 24000 times,\n",
            "Trained for 25000 times,\n",
            "Accuarcy Test:  0.9509\n",
            "Trained for 5 epoch(s), loss = 0.16260238325042237, test = 0.9509\n",
            "Trained for 26000 times,\n",
            "Trained for 27000 times,\n",
            "Trained for 28000 times,\n",
            "Trained for 29000 times,\n",
            "Trained for 30000 times,\n",
            "Accuarcy Test:  0.9415\n",
            "Trained for 6 epoch(s), loss = 0.1681500213951661, test = 0.9415\n",
            "Trained for 31000 times,\n",
            "Trained for 32000 times,\n",
            "Trained for 33000 times,\n",
            "Trained for 34000 times,\n",
            "Trained for 35000 times,\n",
            "Accuarcy Test:  0.9539\n",
            "Trained for 7 epoch(s), loss = 0.13751653701323513, test = 0.9539\n",
            "Trained for 36000 times,\n",
            "Trained for 37000 times,\n",
            "Trained for 38000 times,\n",
            "Trained for 39000 times,\n",
            "Trained for 40000 times,\n",
            "Accuarcy Test:  0.9567\n",
            "Trained for 8 epoch(s), loss = 0.12533017040766847, test = 0.9567\n",
            "Trained for 41000 times,\n",
            "Trained for 42000 times,\n",
            "Trained for 43000 times,\n",
            "Trained for 44000 times,\n",
            "Trained for 45000 times,\n",
            "Accuarcy Test:  0.9622\n",
            "Trained for 9 epoch(s), loss = 0.11194166807944095, test = 0.9622\n",
            "Trained for 46000 times,\n",
            "Trained for 47000 times,\n",
            "Trained for 48000 times,\n",
            "Trained for 49000 times,\n",
            "Trained for 50000 times,\n",
            "Accuarcy Test:  0.9667\n",
            "Trained for 10 epoch(s), loss = 0.09682690839353922, test = 0.9667\n",
            "Trained for 51000 times,\n",
            "Trained for 52000 times,\n",
            "Trained for 53000 times,\n",
            "Trained for 54000 times,\n",
            "Trained for 55000 times,\n",
            "Accuarcy Test:  0.9671\n",
            "Trained for 11 epoch(s), loss = 0.09700008467282402, test = 0.9671\n",
            "Trained for 56000 times,\n",
            "Trained for 57000 times,\n",
            "Trained for 58000 times,\n",
            "Trained for 59000 times,\n",
            "Trained for 60000 times,\n",
            "Accuarcy Test:  0.968\n",
            "Trained for 12 epoch(s), loss = 0.08898200883241324, test = 0.968\n",
            "Trained for 61000 times,\n",
            "Trained for 62000 times,\n",
            "Trained for 63000 times,\n",
            "Trained for 64000 times,\n",
            "Trained for 65000 times,\n",
            "Accuarcy Test:  0.9674\n",
            "Trained for 13 epoch(s), loss = 0.09133048116970297, test = 0.9674\n",
            "Trained for 66000 times,\n",
            "Trained for 67000 times,\n",
            "Trained for 68000 times,\n",
            "Trained for 69000 times,\n",
            "Trained for 70000 times,\n",
            "Accuarcy Test:  0.967\n",
            "Trained for 14 epoch(s), loss = 0.08889415251050622, test = 0.967\n",
            "Trained for 71000 times,\n",
            "Trained for 72000 times,\n",
            "Trained for 73000 times,\n",
            "Trained for 74000 times,\n",
            "Trained for 75000 times,\n",
            "Accuarcy Test:  0.9706\n",
            "Trained for 15 epoch(s), loss = 0.07577921142163953, test = 0.9706\n",
            "Trained for 76000 times,\n",
            "Trained for 77000 times,\n",
            "Trained for 78000 times,\n",
            "Trained for 79000 times,\n",
            "Trained for 80000 times,\n",
            "Accuarcy Test:  0.9721\n",
            "Trained for 16 epoch(s), loss = 0.07633034930812632, test = 0.9721\n",
            "Trained for 81000 times,\n",
            "Trained for 82000 times,\n",
            "Trained for 83000 times,\n",
            "Trained for 84000 times,\n",
            "Trained for 85000 times,\n",
            "Accuarcy Test:  0.9715\n",
            "Trained for 17 epoch(s), loss = 0.07398633106821548, test = 0.9715\n",
            "Trained for 86000 times,\n",
            "Trained for 87000 times,\n",
            "Trained for 88000 times,\n",
            "Trained for 89000 times,\n",
            "Trained for 90000 times,\n",
            "Accuarcy Test:  0.9713\n",
            "Trained for 18 epoch(s), loss = 0.0783190702803834, test = 0.9713\n",
            "Trained for 91000 times,\n",
            "Trained for 92000 times,\n",
            "Trained for 93000 times,\n",
            "Trained for 94000 times,\n",
            "Trained for 95000 times,\n",
            "Accuarcy Test:  0.9716\n",
            "Trained for 19 epoch(s), loss = 0.07028862368655463, test = 0.9716\n",
            "Trained for 96000 times,\n",
            "Trained for 97000 times,\n",
            "Trained for 98000 times,\n",
            "Trained for 99000 times,\n",
            "Trained for 100000 times,\n",
            "Accuarcy Test:  0.9733\n",
            "Trained for 20 epoch(s), loss = 0.06475354483297907, test = 0.9733\n",
            "Trained for 101000 times,\n",
            "Trained for 102000 times,\n",
            "Trained for 103000 times,\n",
            "Trained for 104000 times,\n",
            "Trained for 105000 times,\n",
            "Accuarcy Test:  0.9718\n",
            "Trained for 21 epoch(s), loss = 0.07470454437228197, test = 0.9718\n",
            "Trained for 106000 times,\n",
            "Trained for 107000 times,\n",
            "Trained for 108000 times,\n",
            "Trained for 109000 times,\n",
            "Trained for 110000 times,\n",
            "Accuarcy Test:  0.9733\n",
            "Trained for 22 epoch(s), loss = 0.06295431026944463, test = 0.9733\n",
            "Trained for 111000 times,\n",
            "Trained for 112000 times,\n",
            "Trained for 113000 times,\n",
            "Trained for 114000 times,\n",
            "Trained for 115000 times,\n",
            "Accuarcy Test:  0.9743\n",
            "Trained for 23 epoch(s), loss = 0.059943843647669935, test = 0.9743\n",
            "Trained for 116000 times,\n",
            "Trained for 117000 times,\n",
            "Trained for 118000 times,\n",
            "Trained for 119000 times,\n",
            "Trained for 120000 times,\n",
            "Accuarcy Test:  0.9738\n",
            "Trained for 24 epoch(s), loss = 0.06458116847016358, test = 0.9738\n",
            "Trained for 121000 times,\n",
            "Trained for 122000 times,\n",
            "Trained for 123000 times,\n",
            "Trained for 124000 times,\n",
            "Trained for 125000 times,\n",
            "Accuarcy Test:  0.9757\n",
            "Trained for 25 epoch(s), loss = 0.06032026007029963, test = 0.9757\n",
            "Trained for 126000 times,\n",
            "Trained for 127000 times,\n",
            "Trained for 128000 times,\n",
            "Trained for 129000 times,\n",
            "Trained for 130000 times,\n",
            "Accuarcy Test:  0.9732\n",
            "Trained for 26 epoch(s), loss = 0.06219630819741692, test = 0.9732\n",
            "Trained for 131000 times,\n",
            "Trained for 132000 times,\n",
            "Trained for 133000 times,\n",
            "Trained for 134000 times,\n",
            "Trained for 135000 times,\n",
            "Accuarcy Test:  0.9676\n",
            "Trained for 27 epoch(s), loss = 0.07155663917643398, test = 0.9676\n",
            "Trained for 136000 times,\n",
            "Trained for 137000 times,\n",
            "Trained for 138000 times,\n",
            "Trained for 139000 times,\n",
            "Trained for 140000 times,\n",
            "Accuarcy Test:  0.9736\n",
            "Trained for 28 epoch(s), loss = 0.0580283999624435, test = 0.9736\n",
            "Trained for 141000 times,\n",
            "Trained for 142000 times,\n",
            "Trained for 143000 times,\n",
            "Trained for 144000 times,\n",
            "Trained for 145000 times,\n",
            "Accuarcy Test:  0.9779\n",
            "Trained for 29 epoch(s), loss = 0.04943446524294645, test = 0.9779\n",
            "Trained for 146000 times,\n",
            "Trained for 147000 times,\n",
            "Trained for 148000 times,\n",
            "Trained for 149000 times,\n",
            "Trained for 150000 times,\n",
            "Accuarcy Test:  0.9735\n",
            "Trained for 30 epoch(s), loss = 0.060499543448076475, test = 0.9735\n",
            "Trained for 151000 times,\n",
            "Trained for 152000 times,\n",
            "Trained for 153000 times,\n",
            "Trained for 154000 times,\n",
            "Trained for 155000 times,\n",
            "Accuarcy Test:  0.9733\n",
            "Trained for 31 epoch(s), loss = 0.056959888662845445, test = 0.9733\n",
            "Trained for 156000 times,\n",
            "Trained for 157000 times,\n",
            "Trained for 158000 times,\n",
            "Trained for 159000 times,\n",
            "Trained for 160000 times,\n",
            "Accuarcy Test:  0.9786\n",
            "Trained for 32 epoch(s), loss = 0.04306917366120168, test = 0.9786\n",
            "Trained for 161000 times,\n",
            "Trained for 162000 times,\n",
            "Trained for 163000 times,\n",
            "Trained for 164000 times,\n",
            "Trained for 165000 times,\n",
            "Accuarcy Test:  0.9758\n",
            "Trained for 33 epoch(s), loss = 0.049760792486046646, test = 0.9758\n",
            "Trained for 166000 times,\n",
            "Trained for 167000 times,\n",
            "Trained for 168000 times,\n",
            "Trained for 169000 times,\n",
            "Trained for 170000 times,\n",
            "Accuarcy Test:  0.9766\n",
            "Trained for 34 epoch(s), loss = 0.044202897276524315, test = 0.9766\n",
            "Trained for 171000 times,\n",
            "Trained for 172000 times,\n",
            "Trained for 173000 times,\n",
            "Trained for 174000 times,\n",
            "Trained for 175000 times,\n",
            "Accuarcy Test:  0.9794\n",
            "Trained for 35 epoch(s), loss = 0.03741637436383657, test = 0.9794\n",
            "Trained for 176000 times,\n",
            "Trained for 177000 times,\n",
            "Trained for 178000 times,\n",
            "Trained for 179000 times,\n",
            "Trained for 180000 times,\n",
            "Accuarcy Test:  0.9761\n",
            "Trained for 36 epoch(s), loss = 0.04508418517979063, test = 0.9761\n",
            "Trained for 181000 times,\n",
            "Trained for 182000 times,\n",
            "Trained for 183000 times,\n",
            "Trained for 184000 times,\n",
            "Trained for 185000 times,\n",
            "Accuarcy Test:  0.9772\n",
            "Trained for 37 epoch(s), loss = 0.03988023462429231, test = 0.9772\n",
            "Trained for 186000 times,\n",
            "Trained for 187000 times,\n",
            "Trained for 188000 times,\n",
            "Trained for 189000 times,\n",
            "Trained for 190000 times,\n",
            "Accuarcy Test:  0.9767\n",
            "Trained for 38 epoch(s), loss = 0.044252622907010514, test = 0.9767\n",
            "Trained for 191000 times,\n",
            "Trained for 192000 times,\n",
            "Trained for 193000 times,\n",
            "Trained for 194000 times,\n",
            "Trained for 195000 times,\n",
            "Accuarcy Test:  0.9796\n",
            "Trained for 39 epoch(s), loss = 0.03641411907154771, test = 0.9796\n",
            "Trained for 196000 times,\n",
            "Trained for 197000 times,\n",
            "Trained for 198000 times,\n",
            "Trained for 199000 times,\n",
            "Trained for 200000 times,\n",
            "Accuarcy Test:  0.9766\n",
            "Trained for 40 epoch(s), loss = 0.041803841370117036, test = 0.9766\n",
            "Trained for 201000 times,\n",
            "Trained for 202000 times,\n",
            "Trained for 203000 times,\n",
            "Trained for 204000 times,\n",
            "Trained for 205000 times,\n",
            "Accuarcy Test:  0.9742\n",
            "Trained for 41 epoch(s), loss = 0.04836726883109245, test = 0.9742\n",
            "Trained for 206000 times,\n",
            "Trained for 207000 times,\n",
            "Trained for 208000 times,\n",
            "Trained for 209000 times,\n",
            "Trained for 210000 times,\n",
            "Accuarcy Test:  0.9768\n",
            "Trained for 42 epoch(s), loss = 0.03670057098957078, test = 0.9768\n",
            "Trained for 211000 times,\n",
            "Trained for 212000 times,\n",
            "Trained for 213000 times,\n",
            "Trained for 214000 times,\n",
            "Trained for 215000 times,\n",
            "Accuarcy Test:  0.9766\n",
            "Trained for 43 epoch(s), loss = 0.03838310925628946, test = 0.9766\n",
            "Trained for 216000 times,\n",
            "Trained for 217000 times,\n",
            "Trained for 218000 times,\n",
            "Trained for 219000 times,\n",
            "Trained for 220000 times,\n",
            "Accuarcy Test:  0.9789\n",
            "Trained for 44 epoch(s), loss = 0.03401608168229158, test = 0.9789\n",
            "Trained for 221000 times,\n",
            "Trained for 222000 times,\n",
            "Trained for 223000 times,\n",
            "Trained for 224000 times,\n",
            "Trained for 225000 times,\n",
            "Accuarcy Test:  0.9782\n",
            "Trained for 45 epoch(s), loss = 0.03739560560339394, test = 0.9782\n",
            "Trained for 226000 times,\n",
            "Trained for 227000 times,\n",
            "Trained for 228000 times,\n",
            "Trained for 229000 times,\n",
            "Trained for 230000 times,\n",
            "Accuarcy Test:  0.9789\n",
            "Trained for 46 epoch(s), loss = 0.03271307624585271, test = 0.9789\n",
            "Trained for 231000 times,\n",
            "Trained for 232000 times,\n",
            "Trained for 233000 times,\n",
            "Trained for 234000 times,\n",
            "Trained for 235000 times,\n",
            "Accuarcy Test:  0.9789\n",
            "Trained for 47 epoch(s), loss = 0.03199775846824403, test = 0.9789\n",
            "Trained for 236000 times,\n",
            "Trained for 237000 times,\n",
            "Trained for 238000 times,\n",
            "Trained for 239000 times,\n",
            "Trained for 240000 times,\n",
            "Accuarcy Test:  0.9788\n",
            "Trained for 48 epoch(s), loss = 0.037067322971490575, test = 0.9788\n",
            "Trained for 241000 times,\n",
            "Trained for 242000 times,\n",
            "Trained for 243000 times,\n",
            "Trained for 244000 times,\n",
            "Trained for 245000 times,\n",
            "Accuarcy Test:  0.9786\n",
            "Trained for 49 epoch(s), loss = 0.031179611331191324, test = 0.9786\n",
            "Trained for 246000 times,\n",
            "Trained for 247000 times,\n",
            "Trained for 248000 times,\n",
            "Trained for 249000 times,\n",
            "Trained for 250000 times,\n",
            "Accuarcy Test:  0.9781\n",
            "Trained for 50 epoch(s), loss = 0.02975566542298887, test = 0.9781\n",
            "Trained for 251000 times,\n",
            "Trained for 252000 times,\n",
            "Trained for 253000 times,\n",
            "Trained for 254000 times,\n",
            "Trained for 255000 times,\n",
            "Accuarcy Test:  0.9801\n",
            "Trained for 51 epoch(s), loss = 0.028963478544789402, test = 0.9801\n",
            "Trained for 256000 times,\n",
            "Trained for 257000 times,\n",
            "Trained for 258000 times,\n",
            "Trained for 259000 times,\n",
            "Trained for 260000 times,\n",
            "Accuarcy Test:  0.9753\n",
            "Trained for 52 epoch(s), loss = 0.04144533885541269, test = 0.9753\n",
            "Trained for 261000 times,\n",
            "Trained for 262000 times,\n",
            "Trained for 263000 times,\n",
            "Trained for 264000 times,\n",
            "Trained for 265000 times,\n",
            "Accuarcy Test:  0.9798\n",
            "Trained for 53 epoch(s), loss = 0.025674571715504187, test = 0.9798\n",
            "Trained for 266000 times,\n",
            "Trained for 267000 times,\n",
            "Trained for 268000 times,\n",
            "Trained for 269000 times,\n",
            "Trained for 270000 times,\n",
            "Accuarcy Test:  0.9809\n",
            "Trained for 54 epoch(s), loss = 0.025718050921808754, test = 0.9809\n",
            "Trained for 271000 times,\n",
            "Trained for 272000 times,\n",
            "Trained for 273000 times,\n",
            "Trained for 274000 times,\n",
            "Trained for 275000 times,\n",
            "Accuarcy Test:  0.9817\n",
            "Trained for 55 epoch(s), loss = 0.0245136174092077, test = 0.9817\n",
            "Trained for 276000 times,\n",
            "Trained for 277000 times,\n",
            "Trained for 278000 times,\n",
            "Trained for 279000 times,\n",
            "Trained for 280000 times,\n",
            "Accuarcy Test:  0.9818\n",
            "Trained for 56 epoch(s), loss = 0.02335234549373528, test = 0.9818\n",
            "Trained for 281000 times,\n",
            "Trained for 282000 times,\n",
            "Trained for 283000 times,\n",
            "Trained for 284000 times,\n",
            "Trained for 285000 times,\n",
            "Accuarcy Test:  0.9778\n",
            "Trained for 57 epoch(s), loss = 0.03349602113225138, test = 0.9778\n",
            "Trained for 286000 times,\n",
            "Trained for 287000 times,\n",
            "Trained for 288000 times,\n",
            "Trained for 289000 times,\n",
            "Trained for 290000 times,\n",
            "Accuarcy Test:  0.9807\n",
            "Trained for 58 epoch(s), loss = 0.02515785324653628, test = 0.9807\n",
            "Trained for 291000 times,\n",
            "Trained for 292000 times,\n",
            "Trained for 293000 times,\n",
            "Trained for 294000 times,\n",
            "Trained for 295000 times,\n",
            "Accuarcy Test:  0.9805\n",
            "Trained for 59 epoch(s), loss = 0.02390151433408215, test = 0.9805\n",
            "Trained for 296000 times,\n",
            "Trained for 297000 times,\n",
            "Trained for 298000 times,\n",
            "Trained for 299000 times,\n",
            "Trained for 300000 times,\n",
            "Accuarcy Test:  0.9782\n",
            "Trained for 60 epoch(s), loss = 0.026301931201013012, test = 0.9782\n",
            "Training finished!\n",
            "Accuarcy Test:  0.9782\n"
          ]
        }
      ],
      "source": [
        "num_iterations = 300000\n",
        "learning_rate = 0.01\n",
        "num_inputs = 28*28\n",
        "num_outputs = 10\n",
        "hidden_size = 512\n",
        "acc_per_hidden_size = []\n",
        "# data fitting, training and accuracy evaluation\n",
        "model = NN(num_inputs, hidden_size, num_outputs)\n",
        "cost_dict, tests_dict = model.train(x_train, y_train, num_iterations=num_iterations, learning_rate=learning_rate)\n",
        "tmp, _ = model.testing(x_test, y_test)\n",
        "acc_per_hidden_size.append(tmp)"
      ]
    },
    {
      "cell_type": "code",
      "execution_count": 6,
      "metadata": {
        "id": "gXsDBBKRWnvd",
        "colab": {
          "base_uri": "https://localhost:8080/"
        },
        "outputId": "ee84aa0c-9619-4431-df24-786330c4d121"
      },
      "outputs": [
        {
          "output_type": "stream",
          "name": "stdout",
          "text": [
            "Accuarcy Test:  0.9782\n"
          ]
        },
        {
          "output_type": "stream",
          "name": "stderr",
          "text": [
            "/usr/local/lib/python3.7/dist-packages/ipykernel_launcher.py:138: DeprecationWarning: `np.float` is a deprecated alias for the builtin `float`. To silence this warning, use `float` by itself. Doing this will not modify any behavior and is safe. If you specifically wanted the numpy scalar type, use `np.float64` here.\n",
            "Deprecated in NumPy 1.20; for more details and guidance: https://numpy.org/devdocs/release/1.20.0-notes.html#deprecations\n"
          ]
        }
      ],
      "source": [
        "accuracy, wrong_case = model.testing(x_test,y_test)"
      ]
    },
    {
      "cell_type": "markdown",
      "metadata": {
        "id": "OCvo_SAn7-O3"
      },
      "source": [
        "## Visualize một số trường hợp sai"
      ]
    },
    {
      "cell_type": "code",
      "execution_count": null,
      "metadata": {
        "colab": {
          "base_uri": "https://localhost:8080/",
          "height": 98
        },
        "id": "Iy9AB_AeDCyc",
        "outputId": "58e12424-15ff-447e-f6c2-6fbb4728c7db"
      },
      "outputs": [
        {
          "output_type": "display_data",
          "data": {
            "text/plain": [
              "<Figure size 720x288 with 10 Axes>"
            ],
            "image/png": "[encoded data removed]"
          },
          "metadata": {
            "needs_background": "light"
          }
        }
      ],
      "source": [
        "import matplotlib.pyplot as plt\n",
        "fig, axes = plt.subplots(ncols=10, sharex=False, \n",
        "    sharey=True, figsize=(10, 4))\n",
        "for i in range(10):\n",
        "    axes[i].set_title((y_test[wrong_case[i]], model.predict(x_test[wrong_case[i]])))\n",
        "    axes[i].imshow(X_test[wrong_case[i]], cmap='gray')\n",
        "    axes[i].get_xaxis().set_visible(False)\n",
        "    axes[i].get_yaxis().set_visible(False)\n",
        "plt.show()"
      ]
    },
    {
      "cell_type": "markdown",
      "metadata": {
        "id": "_ldxUPdq8DC8"
      },
      "source": [
        "## Dự đoán \n"
      ]
    },
    {
      "cell_type": "code",
      "execution_count": null,
      "metadata": {
        "colab": {
          "base_uri": "https://localhost:8080/"
        },
        "id": "bML4r4U_xzSd",
        "outputId": "e6f99b3d-a7a6-4852-b3f7-9b8ca9503f25"
      },
      "outputs": [
        {
          "data": {
            "text/plain": [
              "6"
            ]
          },
          "execution_count": 23,
          "metadata": {},
          "output_type": "execute_result"
        }
      ],
      "source": [
        "model.predict(x_test[11])"
      ]
    },
    {
      "cell_type": "code",
      "execution_count": null,
      "metadata": {
        "colab": {
          "base_uri": "https://localhost:8080/"
        },
        "id": "yDi3zmGi4r4k",
        "outputId": "3b7c0390-14f7-4690-ac74-e5f205627f6d"
      },
      "outputs": [
        {
          "data": {
            "text/plain": [
              "6"
            ]
          },
          "execution_count": 28,
          "metadata": {},
          "output_type": "execute_result"
        }
      ],
      "source": [
        "y_test[11]"
      ]
    },
    {
      "cell_type": "code",
      "execution_count": null,
      "metadata": {
        "colab": {
          "base_uri": "https://localhost:8080/",
          "height": 45
        },
        "id": "ptTzjMps45VV",
        "outputId": "f5a165cb-30cf-4e83-b77f-da4c7653aeac"
      },
      "outputs": [
        {
          "data": {
            "image/png": "[encoded data removed]",
            "text/plain": [
              "<PIL.Image.Image image mode=L size=28x28 at 0x7F0B14471290>"
            ]
          },
          "metadata": {},
          "output_type": "display_data"
        }
      ],
      "source": [
        "cv2_imshow(X_test[11])"
      ]
    },
    {
      "cell_type": "code",
      "execution_count": null,
      "metadata": {
        "id": "O_0BKkxUuniG"
      },
      "outputs": [],
      "source": [
        "for i in range(len(hidden_size)):\n",
        "  print(\"Accuracy for %d hidden size: %0.3f\" % (hidden_size[i], acc_per_hidden_size[i]))"
      ]
    },
    {
      "cell_type": "markdown",
      "metadata": {
        "id": "zZ7gQGpO8OMg"
      },
      "source": [
        "## So sánh các iteration khác nhau"
      ]
    },
    {
      "cell_type": "code",
      "execution_count": null,
      "metadata": {
        "id": "lCoRz288cvuI"
      },
      "outputs": [],
      "source": [
        "cost = []\n",
        "acc = []\n",
        "num_iter = []\n",
        "for i in cost_dict:\n",
        "  num_iter.append(i)\n",
        "  cost.append(cost_dict[i])\n",
        "for i in tests_dict:\n",
        "  acc.append(tests_dict[i])"
      ]
    },
    {
      "cell_type": "code",
      "execution_count": null,
      "metadata": {
        "colab": {
          "base_uri": "https://localhost:8080/",
          "height": 366
        },
        "id": "gMFSDSApOl61",
        "outputId": "cdf02022-1225-4c97-f879-9b00e0f0ff76"
      },
      "outputs": [
        {
          "name": "stdout",
          "output_type": "stream",
          "text": [
            "iteration = 10000: loss = 0.288, accuracy = 0.917%\n",
            "iteration = 20000: loss = 0.212, accuracy = 0.936%\n",
            "iteration = 100000: loss = 0.105, accuracy = 0.961%\n",
            "iteration = 200000: loss = 0.057, accuracy = 0.975%\n"
          ]
        },
        {
          "data": {
            "text/plain": [
              "<matplotlib.legend.Legend at 0x7f35fd6c78d0>"
            ]
          },
          "execution_count": 107,
          "metadata": {},
          "output_type": "execute_result"
        },
        {
          "data": {
            "image/png": "[encoded data removed]",
            "text/plain": [
              "<Figure size 432x288 with 1 Axes>"
            ]
          },
          "metadata": {},
          "output_type": "display_data"
        }
      ],
      "source": [
        "print(\"iteration = %d: loss = %0.3f, accuracy = %0.3f%s\" %(10000, cost_dict['10000'], tests_dict['10000'], '%'))\n",
        "print(\"iteration = %d: loss = %0.3f, accuracy = %0.3f%s\" %(20000, cost_dict['20000'], tests_dict['20000'], '%'))\n",
        "print(\"iteration = %d: loss = %0.3f, accuracy = %0.3f%s\" %(100000, cost_dict['100000'], tests_dict['100000'], '%'))\n",
        "print(\"iteration = %d: loss = %0.3f, accuracy = %0.3f%s\" %(200000, cost_dict['200000'], tests_dict['200000'], '%'))\n",
        "\n",
        "plt.plot(cost, label='loss_value')\n",
        "plt.plot(acc, label='test_accuracy')\n",
        "plt.xlabel('Epochs')\n",
        "plt.ylabel('Accuracy')\n",
        "plt.legend()"
      ]
    }
  ],
  "metadata": {
    "accelerator": "GPU",
    "colab": {
      "collapsed_sections": [],
      "name": "21520064 Neural_network 3 layer.ipynb",
      "provenance": []
    },
    "kernelspec": {
      "display_name": "Python 3",
      "name": "python3"
    },
    "language_info": {
      "name": "python"
    }
  },
  "nbformat": 4,
  "nbformat_minor": 0
}